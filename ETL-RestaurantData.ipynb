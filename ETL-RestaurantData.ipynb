{
 "cells": [
  {
   "cell_type": "markdown",
   "metadata": {},
   "source": [
    "   ## Extract         Transform             and         Load -  Restaurants in San Antonio\n",
    "###### -------------------------------------------------------------------------------------------------------------------------------------------------------------------------\n",
    "\n",
    "### Extract: \n",
    "#### Data Sources : \n",
    "####   1. Yellow Pages\n",
    "##### Information extracted from yellowpages.com to include:\n",
    "- Restaurant name <br>\n",
    "- Restaurant phone number \n",
    "- Restaurant website \n",
    "- Restaurant type (category) \n",
    "\n",
    "#### 2. Google geocode API\n",
    "##### Information extracted from google API to include:\n",
    "- Restaurant Address\n",
    "- Restaurant Latitude\n",
    "- Restaurant Longitude"
   ]
  },
  {
   "cell_type": "code",
   "execution_count": 1,
   "metadata": {},
   "outputs": [],
   "source": [
    "# Import dependencies for web scraping\n",
    "from splinter import Browser\n",
    "from bs4 import BeautifulSoup\n",
    "from webdriver_manager.chrome import ChromeDriverManager\n",
    "import pandas as pd\n",
    "\n",
    "# Import dependencies for Google API\n",
    "import requests\n",
    "import json\n",
    "from requests.utils import requote_uri\n",
    "from sqlalchemy import create_engine\n",
    "import re\n",
    "# Import api and postgresql keys\n",
    "from api_keys import g_key, post_key"
   ]
  },
  {
   "cell_type": "code",
   "execution_count": 2,
   "metadata": {},
   "outputs": [
    {
     "name": "stderr",
     "output_type": "stream",
     "text": [
      "[WDM] - ====== WebDriver manager ======\n",
      "[WDM] - Current google-chrome version is 89.0.4389\n",
      "[WDM] - Get LATEST driver version for 89.0.4389\n"
     ]
    },
    {
     "name": "stdout",
     "output_type": "stream",
     "text": [
      "\n",
      "\n"
     ]
    },
    {
     "name": "stderr",
     "output_type": "stream",
     "text": [
      "[WDM] - Driver [C:\\Users\\ubc\\.wdm\\drivers\\chromedriver\\win32\\89.0.4389.23\\chromedriver.exe] found in cache\n"
     ]
    }
   ],
   "source": [
    "# Create engine connection and Initialize browser \n",
    "executable_path = {'executable_path': ChromeDriverManager().install()}\n",
    "browser = Browser('chrome', **executable_path, headless=False)"
   ]
  },
  {
   "cell_type": "code",
   "execution_count": 3,
   "metadata": {},
   "outputs": [],
   "source": [
    "# Set Base url \n",
    "search_url = 'https://www.yellowpages.com/search?search_terms=restaurants&geo_location_terms=San+Antonio%2C+TX'\n",
    "browser.visit(search_url)"
   ]
  },
  {
   "cell_type": "code",
   "execution_count": 4,
   "metadata": {},
   "outputs": [],
   "source": [
    "# Create a BeautifulSoup object to contain html page\n",
    "html = browser.html\n",
    "soup = BeautifulSoup(html, 'html.parser')"
   ]
  },
  {
   "cell_type": "markdown",
   "metadata": {},
   "source": [
    " ### Extraction #1 :\n",
    " \n",
    " ######    -  Identify the elements by their classes to extract required data and generate a list.\n",
    " ######    -  Create a dataframe"
   ]
  },
  {
   "cell_type": "code",
   "execution_count": 5,
   "metadata": {},
   "outputs": [],
   "source": [
    "# Getting the restaurant info from website and create lists to append information to\n",
    "rest_info = soup.find_all('div', class_='info')\n",
    "# Initializing the lists\n",
    "restaurant = []\n",
    "phone =[]\n",
    "website =[]\n",
    "category =[]\n",
    "\n",
    "for info in rest_info:\n",
    "    try:\n",
    "        restaurant.append(info.find('a', class_=\"business-name\").text)\n",
    "        phone.append(info.find('div', class_=\"phone\").text)    \n",
    "        website.append(info.find('a', class_=\"track-visit-website\")['href'])\n",
    "        category.append(info.find('div', class_=\"categories\").text)       \n",
    "    except TypeError:\n",
    "        website.append(float('NAN'))\n",
    "        category.append(float('NAN'))"
   ]
  },
  {
   "cell_type": "markdown",
   "metadata": {},
   "source": [
    "#### Data, if not found, will be stored as a _NAN_\n",
    "\n",
    "\n",
    "###### Note:  A NaN (Not-a-Number) is a symbolic entity encoded in floating-point format. "
   ]
  },
  {
   "cell_type": "code",
   "execution_count": 6,
   "metadata": {},
   "outputs": [],
   "source": [
    "# close browser\n",
    "browser.quit()"
   ]
  },
  {
   "cell_type": "code",
   "execution_count": 7,
   "metadata": {},
   "outputs": [
    {
     "data": {
      "text/html": [
       "<div>\n",
       "<style scoped>\n",
       "    .dataframe tbody tr th:only-of-type {\n",
       "        vertical-align: middle;\n",
       "    }\n",
       "\n",
       "    .dataframe tbody tr th {\n",
       "        vertical-align: top;\n",
       "    }\n",
       "\n",
       "    .dataframe thead th {\n",
       "        text-align: right;\n",
       "    }\n",
       "</style>\n",
       "<table border=\"1\" class=\"dataframe\">\n",
       "  <thead>\n",
       "    <tr style=\"text-align: right;\">\n",
       "      <th></th>\n",
       "      <th>Restaurant_name</th>\n",
       "      <th>Phone_number</th>\n",
       "      <th>Website</th>\n",
       "      <th>Restaurant_type</th>\n",
       "    </tr>\n",
       "  </thead>\n",
       "  <tbody>\n",
       "    <tr>\n",
       "      <th>0</th>\n",
       "      <td>Jacala Mexican Restaurant</td>\n",
       "      <td>(210) 591-2039</td>\n",
       "      <td>NaN</td>\n",
       "      <td>NaN</td>\n",
       "    </tr>\n",
       "    <tr>\n",
       "      <th>1</th>\n",
       "      <td>Marie Callender's</td>\n",
       "      <td>(210) 680-4257</td>\n",
       "      <td>http://www.mariecallenders.com</td>\n",
       "      <td>RestaurantsAmerican RestaurantsBakeries</td>\n",
       "    </tr>\n",
       "    <tr>\n",
       "      <th>2</th>\n",
       "      <td>Fujiya Japanese Garden</td>\n",
       "      <td>(210) 966-1930</td>\n",
       "      <td>http://www.fujiyajapanesegardens.com</td>\n",
       "      <td>RestaurantsTake Out RestaurantsJapanese Restau...</td>\n",
       "    </tr>\n",
       "    <tr>\n",
       "      <th>3</th>\n",
       "      <td>Golden Wok</td>\n",
       "      <td>(210) 615-8282</td>\n",
       "      <td>NaN</td>\n",
       "      <td>NaN</td>\n",
       "    </tr>\n",
       "    <tr>\n",
       "      <th>4</th>\n",
       "      <td>Scuzzi's Italian Restaurant</td>\n",
       "      <td>(210) 742-8677</td>\n",
       "      <td>http://scuzzisitalianrestaurant.com</td>\n",
       "      <td>RestaurantsBarsCocktail Lounges</td>\n",
       "    </tr>\n",
       "  </tbody>\n",
       "</table>\n",
       "</div>"
      ],
      "text/plain": [
       "               Restaurant_name    Phone_number  \\\n",
       "0    Jacala Mexican Restaurant  (210) 591-2039   \n",
       "1            Marie Callender's  (210) 680-4257   \n",
       "2       Fujiya Japanese Garden  (210) 966-1930   \n",
       "3                   Golden Wok  (210) 615-8282   \n",
       "4  Scuzzi's Italian Restaurant  (210) 742-8677   \n",
       "\n",
       "                                Website  \\\n",
       "0                                   NaN   \n",
       "1        http://www.mariecallenders.com   \n",
       "2  http://www.fujiyajapanesegardens.com   \n",
       "3                                   NaN   \n",
       "4   http://scuzzisitalianrestaurant.com   \n",
       "\n",
       "                                     Restaurant_type  \n",
       "0                                                NaN  \n",
       "1            RestaurantsAmerican RestaurantsBakeries  \n",
       "2  RestaurantsTake Out RestaurantsJapanese Restau...  \n",
       "3                                                NaN  \n",
       "4                    RestaurantsBarsCocktail Lounges  "
      ]
     },
     "execution_count": 7,
     "metadata": {},
     "output_type": "execute_result"
    }
   ],
   "source": [
    "# Load information into dataframe\n",
    "restaurant_df  = pd.DataFrame ( { 'Restaurant_name': restaurant,\n",
    "                               'Phone_number': phone,\n",
    "                               'Website': website,\n",
    "                                'Restaurant_type': category\n",
    "                             })\n",
    "restaurant_df.head()"
   ]
  },
  {
   "cell_type": "markdown",
   "metadata": {},
   "source": [
    "## Transform #1:\n",
    "\n",
    "#### From the above table it's clear that data has missing and inaccurate values.\n",
    "\n",
    "#### Data is cleaned to remove:\n",
    "- \"Restaurants\" from the Restaurant_type column \n",
    "- \"NaN\" (missing) values \n",
    "- Duplicates \n",
    "- _\"id\" column added and set as index_ to uniquely identify the Restaurants."
   ]
  },
  {
   "cell_type": "markdown",
   "metadata": {},
   "source": [
    "##### Clean column Restaurant_type to to get accurate data:"
   ]
  },
  {
   "cell_type": "code",
   "execution_count": 8,
   "metadata": {},
   "outputs": [
    {
     "data": {
      "text/html": [
       "<div>\n",
       "<style scoped>\n",
       "    .dataframe tbody tr th:only-of-type {\n",
       "        vertical-align: middle;\n",
       "    }\n",
       "\n",
       "    .dataframe tbody tr th {\n",
       "        vertical-align: top;\n",
       "    }\n",
       "\n",
       "    .dataframe thead th {\n",
       "        text-align: right;\n",
       "    }\n",
       "</style>\n",
       "<table border=\"1\" class=\"dataframe\">\n",
       "  <thead>\n",
       "    <tr style=\"text-align: right;\">\n",
       "      <th></th>\n",
       "      <th>Restaurant_name</th>\n",
       "      <th>Phone_number</th>\n",
       "      <th>Website</th>\n",
       "      <th>Restaurant_type</th>\n",
       "    </tr>\n",
       "  </thead>\n",
       "  <tbody>\n",
       "    <tr>\n",
       "      <th>0</th>\n",
       "      <td>Jacala Mexican Restaurant</td>\n",
       "      <td>(210) 591-2039</td>\n",
       "      <td>NaN</td>\n",
       "      <td>NaN</td>\n",
       "    </tr>\n",
       "    <tr>\n",
       "      <th>1</th>\n",
       "      <td>Marie Callender's</td>\n",
       "      <td>(210) 680-4257</td>\n",
       "      <td>http://www.mariecallenders.com</td>\n",
       "      <td>American Bakeries</td>\n",
       "    </tr>\n",
       "    <tr>\n",
       "      <th>2</th>\n",
       "      <td>Fujiya Japanese Garden</td>\n",
       "      <td>(210) 966-1930</td>\n",
       "      <td>http://www.fujiyajapanesegardens.com</td>\n",
       "      <td>Take Out Japanese</td>\n",
       "    </tr>\n",
       "    <tr>\n",
       "      <th>3</th>\n",
       "      <td>Golden Wok</td>\n",
       "      <td>(210) 615-8282</td>\n",
       "      <td>NaN</td>\n",
       "      <td>NaN</td>\n",
       "    </tr>\n",
       "    <tr>\n",
       "      <th>4</th>\n",
       "      <td>Scuzzi's Italian Restaurant</td>\n",
       "      <td>(210) 742-8677</td>\n",
       "      <td>http://scuzzisitalianrestaurant.com</td>\n",
       "      <td>BarsCocktail Lounges</td>\n",
       "    </tr>\n",
       "  </tbody>\n",
       "</table>\n",
       "</div>"
      ],
      "text/plain": [
       "               Restaurant_name    Phone_number  \\\n",
       "0    Jacala Mexican Restaurant  (210) 591-2039   \n",
       "1            Marie Callender's  (210) 680-4257   \n",
       "2       Fujiya Japanese Garden  (210) 966-1930   \n",
       "3                   Golden Wok  (210) 615-8282   \n",
       "4  Scuzzi's Italian Restaurant  (210) 742-8677   \n",
       "\n",
       "                                Website       Restaurant_type  \n",
       "0                                   NaN                   NaN  \n",
       "1        http://www.mariecallenders.com     American Bakeries  \n",
       "2  http://www.fujiyajapanesegardens.com    Take Out Japanese   \n",
       "3                                   NaN                   NaN  \n",
       "4   http://scuzzisitalianrestaurant.com  BarsCocktail Lounges  "
      ]
     },
     "execution_count": 8,
     "metadata": {},
     "output_type": "execute_result"
    }
   ],
   "source": [
    "# Remove \"Restaurants\" tag from Restaurant_type tags\n",
    "restaurant_df['Restaurant_type'] = restaurant_df.Restaurant_type.str.replace('Restaurants',\"\")\n",
    "restaurant_df.head()"
   ]
  },
  {
   "cell_type": "markdown",
   "metadata": {},
   "source": [
    "###### Drop Missing values:"
   ]
  },
  {
   "cell_type": "code",
   "execution_count": 9,
   "metadata": {},
   "outputs": [],
   "source": [
    "# Remove NaN values\n",
    "restaurant_clean = restaurant_df.dropna(how = 'any')"
   ]
  },
  {
   "cell_type": "markdown",
   "metadata": {},
   "source": [
    "###### Drop Duplicates:"
   ]
  },
  {
   "cell_type": "code",
   "execution_count": 10,
   "metadata": {},
   "outputs": [],
   "source": [
    "# Dropping any duplicates\n",
    "restaurant_clean = restaurant_clean.drop_duplicates(ignore_index=True)"
   ]
  },
  {
   "cell_type": "markdown",
   "metadata": {},
   "source": [
    "##### Add id column:"
   ]
  },
  {
   "cell_type": "code",
   "execution_count": 11,
   "metadata": {},
   "outputs": [
    {
     "data": {
      "text/html": [
       "<div>\n",
       "<style scoped>\n",
       "    .dataframe tbody tr th:only-of-type {\n",
       "        vertical-align: middle;\n",
       "    }\n",
       "\n",
       "    .dataframe tbody tr th {\n",
       "        vertical-align: top;\n",
       "    }\n",
       "\n",
       "    .dataframe thead th {\n",
       "        text-align: right;\n",
       "    }\n",
       "</style>\n",
       "<table border=\"1\" class=\"dataframe\">\n",
       "  <thead>\n",
       "    <tr style=\"text-align: right;\">\n",
       "      <th></th>\n",
       "      <th>id</th>\n",
       "      <th>Restaurant_name</th>\n",
       "      <th>Website</th>\n",
       "      <th>Phone_number</th>\n",
       "      <th>Restaurant_type</th>\n",
       "    </tr>\n",
       "  </thead>\n",
       "  <tbody>\n",
       "    <tr>\n",
       "      <th>0</th>\n",
       "      <td>0</td>\n",
       "      <td>Marie Callender's</td>\n",
       "      <td>http://www.mariecallenders.com</td>\n",
       "      <td>(210) 680-4257</td>\n",
       "      <td>American Bakeries</td>\n",
       "    </tr>\n",
       "    <tr>\n",
       "      <th>1</th>\n",
       "      <td>1</td>\n",
       "      <td>Fujiya Japanese Garden</td>\n",
       "      <td>http://www.fujiyajapanesegardens.com</td>\n",
       "      <td>(210) 966-1930</td>\n",
       "      <td>Take Out Japanese</td>\n",
       "    </tr>\n",
       "    <tr>\n",
       "      <th>2</th>\n",
       "      <td>2</td>\n",
       "      <td>Scuzzi's Italian Restaurant</td>\n",
       "      <td>http://scuzzisitalianrestaurant.com</td>\n",
       "      <td>(210) 742-8677</td>\n",
       "      <td>BarsCocktail Lounges</td>\n",
       "    </tr>\n",
       "    <tr>\n",
       "      <th>3</th>\n",
       "      <td>3</td>\n",
       "      <td>India Taj Palace Indian Restaurant</td>\n",
       "      <td>http://www.indiatajpalace.com</td>\n",
       "      <td>(210) 497-4800</td>\n",
       "      <td>Take Out Indian</td>\n",
       "    </tr>\n",
       "    <tr>\n",
       "      <th>4</th>\n",
       "      <td>4</td>\n",
       "      <td>Jingu House at The Japenese Tea Garden</td>\n",
       "      <td>http://jinguhousesa.com</td>\n",
       "      <td>(210) 735-4647</td>\n",
       "      <td>Party PlanningMexican</td>\n",
       "    </tr>\n",
       "  </tbody>\n",
       "</table>\n",
       "</div>"
      ],
      "text/plain": [
       "   id                         Restaurant_name  \\\n",
       "0   0                       Marie Callender's   \n",
       "1   1                  Fujiya Japanese Garden   \n",
       "2   2             Scuzzi's Italian Restaurant   \n",
       "3   3      India Taj Palace Indian Restaurant   \n",
       "4   4  Jingu House at The Japenese Tea Garden   \n",
       "\n",
       "                                Website    Phone_number  \\\n",
       "0        http://www.mariecallenders.com  (210) 680-4257   \n",
       "1  http://www.fujiyajapanesegardens.com  (210) 966-1930   \n",
       "2   http://scuzzisitalianrestaurant.com  (210) 742-8677   \n",
       "3         http://www.indiatajpalace.com  (210) 497-4800   \n",
       "4               http://jinguhousesa.com  (210) 735-4647   \n",
       "\n",
       "          Restaurant_type  \n",
       "0       American Bakeries  \n",
       "1      Take Out Japanese   \n",
       "2    BarsCocktail Lounges  \n",
       "3        Take Out Indian   \n",
       "4  Party PlanningMexican   "
      ]
     },
     "execution_count": 11,
     "metadata": {},
     "output_type": "execute_result"
    }
   ],
   "source": [
    "# Load all clean information into dataframe, add \"id\" column and rearrange columns\n",
    "restaurant_clean_df = restaurant_clean.copy()\n",
    "restaurant_clean_df['id'] = restaurant_clean.index\n",
    "restaurant_info = restaurant_clean_df [['id', 'Restaurant_name', 'Website', 'Phone_number', 'Restaurant_type']]\n",
    "restaurant_info.head()"
   ]
  },
  {
   "cell_type": "markdown",
   "metadata": {},
   "source": [
    "#### Check to see if dataframe needs any datatype conversion before loading it to the database:"
   ]
  },
  {
   "cell_type": "code",
   "execution_count": 12,
   "metadata": {},
   "outputs": [
    {
     "data": {
      "text/plain": [
       "id                  int64\n",
       "Restaurant_name    object\n",
       "Website            object\n",
       "Phone_number       object\n",
       "Restaurant_type    object\n",
       "dtype: object"
      ]
     },
     "execution_count": 12,
     "metadata": {},
     "output_type": "execute_result"
    }
   ],
   "source": [
    "# check to see if dataframe datatype matches database schema\n",
    "restaurant_info.dtypes"
   ]
  },
  {
   "cell_type": "markdown",
   "metadata": {},
   "source": [
    "#### Note : datatype matches with the schema generated"
   ]
  },
  {
   "cell_type": "markdown",
   "metadata": {},
   "source": [
    "## Extraction #2\n",
    "#### Information extracted from 2nd data source, google api, to include:\n",
    "- Address of restaurant <br>\n",
    "- Restaurant latitude <br>\n",
    "- Restaurant longitude <br>"
   ]
  },
  {
   "cell_type": "code",
   "execution_count": null,
   "metadata": {},
   "outputs": [],
   "source": [
    "\n"
   ]
  },
  {
   "cell_type": "markdown",
   "metadata": {},
   "source": [
    "#### Restaurant location data will be extracted using the restaurant names scraped from 'Yellow Pages'"
   ]
  },
  {
   "cell_type": "code",
   "execution_count": 13,
   "metadata": {},
   "outputs": [
    {
     "data": {
      "text/html": [
       "<div>\n",
       "<style scoped>\n",
       "    .dataframe tbody tr th:only-of-type {\n",
       "        vertical-align: middle;\n",
       "    }\n",
       "\n",
       "    .dataframe tbody tr th {\n",
       "        vertical-align: top;\n",
       "    }\n",
       "\n",
       "    .dataframe thead th {\n",
       "        text-align: right;\n",
       "    }\n",
       "</style>\n",
       "<table border=\"1\" class=\"dataframe\">\n",
       "  <thead>\n",
       "    <tr style=\"text-align: right;\">\n",
       "      <th></th>\n",
       "      <th>Total Restaurants</th>\n",
       "    </tr>\n",
       "  </thead>\n",
       "  <tbody>\n",
       "    <tr>\n",
       "      <th>0</th>\n",
       "      <td>26</td>\n",
       "    </tr>\n",
       "  </tbody>\n",
       "</table>\n",
       "</div>"
      ],
      "text/plain": [
       "   Total Restaurants\n",
       "0                 26"
      ]
     },
     "execution_count": 13,
     "metadata": {},
     "output_type": "execute_result"
    }
   ],
   "source": [
    "# Extract location using Restaurant names extracted from Yellow Pages\n",
    "restaurant_list = restaurant_clean_df['Restaurant_name'].tolist()\n",
    "#Total number of restaurants\n",
    "pd.DataFrame({'Total Restaurants': [len(restaurant_list)]})"
   ]
  },
  {
   "cell_type": "code",
   "execution_count": 14,
   "metadata": {},
   "outputs": [],
   "source": [
    "# Create lists to store data\n",
    "lat =[]\n",
    "lng= []\n",
    "address =[]\n",
    "\n",
    "\n",
    "# Set Google geocode API endpoint\n",
    "base_url = \"https://maps.googleapis.com/maps/api/geocode/json\""
   ]
  },
  {
   "cell_type": "markdown",
   "metadata": {},
   "source": [
    "#####  - Make a request by adding restaurant name as a query parameter to API endpoint\n",
    "####  - Fetch location data and create a dataframe"
   ]
  },
  {
   "cell_type": "code",
   "execution_count": 15,
   "metadata": {},
   "outputs": [],
   "source": [
    "# Iterate through restaurant list and get lat,lng and address info\n",
    "for restaurant in restaurant_list:\n",
    "    rest = f\"{restaurant}, San Antonio, TX\"\n",
    "    # set parameters\n",
    "    params = {\"address\": rest, \"key\": g_key}\n",
    "    # make a request to API endpoint with restaurant address \n",
    "    response = requests.get(base_url, params=params)\n",
    "    # return request in json format\n",
    "    rest_go = response.json()\n",
    "    #extract information\n",
    "    lat.append(rest_go[\"results\"][0][\"geometry\"][\"location\"][\"lat\"])\n",
    "    lng.append(rest_go[\"results\"][0][\"geometry\"][\"location\"][\"lng\"])\n",
    "    address.append(rest_go[\"results\"][0][\"formatted_address\"])\n"
   ]
  },
  {
   "cell_type": "code",
   "execution_count": 16,
   "metadata": {},
   "outputs": [
    {
     "data": {
      "text/html": [
       "<div>\n",
       "<style scoped>\n",
       "    .dataframe tbody tr th:only-of-type {\n",
       "        vertical-align: middle;\n",
       "    }\n",
       "\n",
       "    .dataframe tbody tr th {\n",
       "        vertical-align: top;\n",
       "    }\n",
       "\n",
       "    .dataframe thead th {\n",
       "        text-align: right;\n",
       "    }\n",
       "</style>\n",
       "<table border=\"1\" class=\"dataframe\">\n",
       "  <thead>\n",
       "    <tr style=\"text-align: right;\">\n",
       "      <th></th>\n",
       "      <th>Lat</th>\n",
       "      <th>Lng</th>\n",
       "      <th>Address</th>\n",
       "    </tr>\n",
       "  </thead>\n",
       "  <tbody>\n",
       "    <tr>\n",
       "      <th>0</th>\n",
       "      <td>29.488611</td>\n",
       "      <td>-98.577500</td>\n",
       "      <td>4788 Northwest Loop 410, San Antonio, TX 78229...</td>\n",
       "    </tr>\n",
       "    <tr>\n",
       "      <th>1</th>\n",
       "      <td>29.525875</td>\n",
       "      <td>-98.566506</td>\n",
       "      <td>9030 Wurzbach Rd, San Antonio, TX 78240, USA</td>\n",
       "    </tr>\n",
       "    <tr>\n",
       "      <th>2</th>\n",
       "      <td>29.666083</td>\n",
       "      <td>-98.633976</td>\n",
       "      <td>24165 I-10 W, Unit 433, San Antonio, TX 78257,...</td>\n",
       "    </tr>\n",
       "    <tr>\n",
       "      <th>3</th>\n",
       "      <td>29.627662</td>\n",
       "      <td>-98.493681</td>\n",
       "      <td>20323 Huebner Rd, San Antonio, TX 78258, USA</td>\n",
       "    </tr>\n",
       "    <tr>\n",
       "      <th>4</th>\n",
       "      <td>29.460833</td>\n",
       "      <td>-98.476944</td>\n",
       "      <td>3853 N St Mary's St, San Antonio, TX 78212, USA</td>\n",
       "    </tr>\n",
       "  </tbody>\n",
       "</table>\n",
       "</div>"
      ],
      "text/plain": [
       "         Lat        Lng                                            Address\n",
       "0  29.488611 -98.577500  4788 Northwest Loop 410, San Antonio, TX 78229...\n",
       "1  29.525875 -98.566506       9030 Wurzbach Rd, San Antonio, TX 78240, USA\n",
       "2  29.666083 -98.633976  24165 I-10 W, Unit 433, San Antonio, TX 78257,...\n",
       "3  29.627662 -98.493681       20323 Huebner Rd, San Antonio, TX 78258, USA\n",
       "4  29.460833 -98.476944    3853 N St Mary's St, San Antonio, TX 78212, USA"
      ]
     },
     "execution_count": 16,
     "metadata": {},
     "output_type": "execute_result"
    }
   ],
   "source": [
    "# Load information into dataframe\n",
    "location_df = pd.DataFrame ({ 'Lat': lat,\n",
    "                              'Lng': lng,\n",
    "                               'Address': address\n",
    "                            \n",
    "                        })\n",
    "location_df.head()"
   ]
  },
  {
   "cell_type": "code",
   "execution_count": 17,
   "metadata": {},
   "outputs": [
    {
     "data": {
      "text/html": [
       "<div>\n",
       "<style scoped>\n",
       "    .dataframe tbody tr th:only-of-type {\n",
       "        vertical-align: middle;\n",
       "    }\n",
       "\n",
       "    .dataframe tbody tr th {\n",
       "        vertical-align: top;\n",
       "    }\n",
       "\n",
       "    .dataframe thead th {\n",
       "        text-align: right;\n",
       "    }\n",
       "</style>\n",
       "<table border=\"1\" class=\"dataframe\">\n",
       "  <thead>\n",
       "    <tr style=\"text-align: right;\">\n",
       "      <th></th>\n",
       "      <th>Total Restaurants Locations</th>\n",
       "    </tr>\n",
       "  </thead>\n",
       "  <tbody>\n",
       "    <tr>\n",
       "      <th>0</th>\n",
       "      <td>26</td>\n",
       "    </tr>\n",
       "  </tbody>\n",
       "</table>\n",
       "</div>"
      ],
      "text/plain": [
       "   Total Restaurants Locations\n",
       "0                           26"
      ]
     },
     "execution_count": 17,
     "metadata": {},
     "output_type": "execute_result"
    }
   ],
   "source": [
    "# Total restaurant Locations\n",
    "pd.DataFrame({'Total Restaurants Locations': [len(location_df)]})"
   ]
  },
  {
   "cell_type": "markdown",
   "metadata": {},
   "source": [
    "## Transform #2\n",
    "#### Data is cleaned to:\n",
    "- Add \"id\" column <br>\n",
    "- Rearrange columns \n",
    "- Missing values"
   ]
  },
  {
   "cell_type": "code",
   "execution_count": 18,
   "metadata": {},
   "outputs": [
    {
     "data": {
      "text/html": [
       "<div>\n",
       "<style scoped>\n",
       "    .dataframe tbody tr th:only-of-type {\n",
       "        vertical-align: middle;\n",
       "    }\n",
       "\n",
       "    .dataframe tbody tr th {\n",
       "        vertical-align: top;\n",
       "    }\n",
       "\n",
       "    .dataframe thead th {\n",
       "        text-align: right;\n",
       "    }\n",
       "</style>\n",
       "<table border=\"1\" class=\"dataframe\">\n",
       "  <thead>\n",
       "    <tr style=\"text-align: right;\">\n",
       "      <th></th>\n",
       "      <th>id</th>\n",
       "      <th>Address</th>\n",
       "      <th>Lat</th>\n",
       "      <th>Lng</th>\n",
       "    </tr>\n",
       "  </thead>\n",
       "  <tbody>\n",
       "    <tr>\n",
       "      <th>0</th>\n",
       "      <td>0</td>\n",
       "      <td>4788 Northwest Loop 410, San Antonio, TX 78229...</td>\n",
       "      <td>29.488611</td>\n",
       "      <td>-98.577500</td>\n",
       "    </tr>\n",
       "    <tr>\n",
       "      <th>1</th>\n",
       "      <td>1</td>\n",
       "      <td>9030 Wurzbach Rd, San Antonio, TX 78240, USA</td>\n",
       "      <td>29.525875</td>\n",
       "      <td>-98.566506</td>\n",
       "    </tr>\n",
       "    <tr>\n",
       "      <th>2</th>\n",
       "      <td>2</td>\n",
       "      <td>24165 I-10 W, Unit 433, San Antonio, TX 78257,...</td>\n",
       "      <td>29.666083</td>\n",
       "      <td>-98.633976</td>\n",
       "    </tr>\n",
       "    <tr>\n",
       "      <th>3</th>\n",
       "      <td>3</td>\n",
       "      <td>20323 Huebner Rd, San Antonio, TX 78258, USA</td>\n",
       "      <td>29.627662</td>\n",
       "      <td>-98.493681</td>\n",
       "    </tr>\n",
       "    <tr>\n",
       "      <th>4</th>\n",
       "      <td>4</td>\n",
       "      <td>3853 N St Mary's St, San Antonio, TX 78212, USA</td>\n",
       "      <td>29.460833</td>\n",
       "      <td>-98.476944</td>\n",
       "    </tr>\n",
       "  </tbody>\n",
       "</table>\n",
       "</div>"
      ],
      "text/plain": [
       "   id                                            Address        Lat        Lng\n",
       "0   0  4788 Northwest Loop 410, San Antonio, TX 78229...  29.488611 -98.577500\n",
       "1   1       9030 Wurzbach Rd, San Antonio, TX 78240, USA  29.525875 -98.566506\n",
       "2   2  24165 I-10 W, Unit 433, San Antonio, TX 78257,...  29.666083 -98.633976\n",
       "3   3       20323 Huebner Rd, San Antonio, TX 78258, USA  29.627662 -98.493681\n",
       "4   4    3853 N St Mary's St, San Antonio, TX 78212, USA  29.460833 -98.476944"
      ]
     },
     "execution_count": 18,
     "metadata": {},
     "output_type": "execute_result"
    }
   ],
   "source": [
    "# 'id' column added and set as index \n",
    "location_df['id'] = location_df.index\n",
    "\n",
    "restaurant_location = location_df[['id','Address', 'Lat', 'Lng']]\n",
    "restaurant_location.head()"
   ]
  },
  {
   "cell_type": "markdown",
   "metadata": {},
   "source": [
    "##### Check for missing values:"
   ]
  },
  {
   "cell_type": "code",
   "execution_count": 19,
   "metadata": {},
   "outputs": [
    {
     "data": {
      "text/plain": [
       "id         0\n",
       "Address    0\n",
       "Lat        0\n",
       "Lng        0\n",
       "dtype: int64"
      ]
     },
     "execution_count": 19,
     "metadata": {},
     "output_type": "execute_result"
    }
   ],
   "source": [
    "# count total Null values\n",
    "restaurant_location.isna().sum()"
   ]
  },
  {
   "cell_type": "markdown",
   "metadata": {},
   "source": [
    "##### Note: Data is clean and has no missing values \n",
    "\n",
    "\n",
    "\n",
    "#### Check for data types:"
   ]
  },
  {
   "cell_type": "code",
   "execution_count": 20,
   "metadata": {},
   "outputs": [
    {
     "data": {
      "text/plain": [
       "id           int64\n",
       "Address     object\n",
       "Lat        float64\n",
       "Lng        float64\n",
       "dtype: object"
      ]
     },
     "execution_count": 20,
     "metadata": {},
     "output_type": "execute_result"
    }
   ],
   "source": [
    "# check to see if dataframe datatype matches database schema\n",
    "restaurant_location.dtypes"
   ]
  },
  {
   "cell_type": "markdown",
   "metadata": {},
   "source": [
    "#### Note: Data types match with the database schema.\n",
    "\n",
    "\n"
   ]
  },
  {
   "cell_type": "markdown",
   "metadata": {},
   "source": [
    "## Load: \n",
    "### Transformed  data will be loaded to PostgreSQL database.\n",
    "\n",
    "\n",
    "#### Create engine connection to PostgreSQL:"
   ]
  },
  {
   "cell_type": "code",
   "execution_count": 21,
   "metadata": {},
   "outputs": [],
   "source": [
    "# create engine connection\n",
    "rds_connection_string = f\"{post_key}:{post_key}@localhost:5432/restaurants_db\"\n",
    "engine = create_engine(f'postgresql://{rds_connection_string}')"
   ]
  },
  {
   "cell_type": "code",
   "execution_count": 22,
   "metadata": {},
   "outputs": [
    {
     "data": {
      "text/plain": [
       "['restaurant_info', 'restaurant_location']"
      ]
     },
     "execution_count": 22,
     "metadata": {},
     "output_type": "execute_result"
    }
   ],
   "source": [
    "# Confirm tables in postgresql database\n",
    "engine.table_names()"
   ]
  },
  {
   "cell_type": "markdown",
   "metadata": {},
   "source": [
    "#### Note: Database schema for above tables have been generated and saved as schema.sql"
   ]
  },
  {
   "cell_type": "code",
   "execution_count": 23,
   "metadata": {},
   "outputs": [],
   "source": [
    "# Dataframe loaded into database\n",
    "restaurant_info.to_sql(name='restaurant_info', con=engine, if_exists='replace', index=False)"
   ]
  },
  {
   "cell_type": "code",
   "execution_count": 24,
   "metadata": {},
   "outputs": [],
   "source": [
    "# Dataframe loaded into database\n",
    "restaurant_location.to_sql(name='restaurant_location', con=engine, if_exists='replace', index=False)"
   ]
  }
 ],
 "metadata": {
  "kernelspec": {
   "display_name": "Python [conda env:pythonData] *",
   "language": "python",
   "name": "conda-env-pythonData-py"
  },
  "language_info": {
   "codemirror_mode": {
    "name": "ipython",
    "version": 3
   },
   "file_extension": ".py",
   "mimetype": "text/x-python",
   "name": "python",
   "nbconvert_exporter": "python",
   "pygments_lexer": "ipython3",
   "version": "3.6.12"
  }
 },
 "nbformat": 4,
 "nbformat_minor": 4
}
